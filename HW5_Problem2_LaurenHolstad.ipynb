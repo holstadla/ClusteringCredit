{
  "nbformat": 4,
  "nbformat_minor": 0,
  "metadata": {
    "colab": {
      "name": "HW5 Problem2_LaurenHolstad.ipynb",
      "provenance": []
    },
    "kernelspec": {
      "name": "python3",
      "display_name": "Python 3"
    }
  },
  "cells": [
    {
      "cell_type": "code",
      "metadata": {
        "id": "k54RfyaXB_My",
        "outputId": "b2a1fed2-e62a-4bb4-ea39-321ced2dcf00",
        "colab": {
          "base_uri": "https://localhost:8080/"
        }
      },
      "source": [
        "import pandas as pd\n",
        "import numpy as np\n",
        "\n",
        "from sklearn.cluster import KMeans\n",
        "from sklearn.metrics import silhouette_score\n",
        "from sklearn.model_selection import train_test_split\n",
        "from sklearn.preprocessing import OneHotEncoder \n",
        "\n",
        "import warnings\n",
        "warnings.filterwarnings(\"ignore\")\n",
        "\n",
        "from google.colab import drive\n",
        "drive.mount('/gdrive')\n",
        "#Change current working directory to gdrive\n",
        "%cd /gdrive"
      ],
      "execution_count": 1,
      "outputs": [
        {
          "output_type": "stream",
          "text": [
            "Mounted at /gdrive\n",
            "/gdrive\n"
          ],
          "name": "stdout"
        }
      ]
    },
    {
      "cell_type": "markdown",
      "metadata": {
        "id": "Sycj0KaCGEhh"
      },
      "source": [
        "# **Import File**"
      ]
    },
    {
      "cell_type": "code",
      "metadata": {
        "id": "EuS1j4FOCuUo",
        "outputId": "97b4b039-e469-4e93-a64e-85d709c2974a",
        "colab": {
          "base_uri": "https://localhost:8080/",
          "height": 204
        }
      },
      "source": [
        "#Read files\n",
        "datafile = r'/gdrive/My Drive/Data Mining/Assignment 5/SouthGermanCredit.xlsx'\n",
        "data = pd.read_excel(datafile) #creates a dataframe\n",
        "data.head()"
      ],
      "execution_count": 2,
      "outputs": [
        {
          "output_type": "execute_result",
          "data": {
            "text/html": [
              "<div>\n",
              "<style scoped>\n",
              "    .dataframe tbody tr th:only-of-type {\n",
              "        vertical-align: middle;\n",
              "    }\n",
              "\n",
              "    .dataframe tbody tr th {\n",
              "        vertical-align: top;\n",
              "    }\n",
              "\n",
              "    .dataframe thead th {\n",
              "        text-align: right;\n",
              "    }\n",
              "</style>\n",
              "<table border=\"1\" class=\"dataframe\">\n",
              "  <thead>\n",
              "    <tr style=\"text-align: right;\">\n",
              "      <th></th>\n",
              "      <th>laufkont</th>\n",
              "      <th>laufzeit</th>\n",
              "      <th>moral</th>\n",
              "      <th>verw</th>\n",
              "      <th>hoehe</th>\n",
              "      <th>sparkont</th>\n",
              "      <th>beszeit</th>\n",
              "      <th>rate</th>\n",
              "      <th>famges</th>\n",
              "      <th>buerge</th>\n",
              "      <th>wohnzeit</th>\n",
              "      <th>verm</th>\n",
              "      <th>alter</th>\n",
              "      <th>weitkred</th>\n",
              "      <th>wohn</th>\n",
              "      <th>bishkred</th>\n",
              "      <th>beruf</th>\n",
              "      <th>pers</th>\n",
              "      <th>telef</th>\n",
              "      <th>gastarb</th>\n",
              "      <th>kredit</th>\n",
              "    </tr>\n",
              "  </thead>\n",
              "  <tbody>\n",
              "    <tr>\n",
              "      <th>0</th>\n",
              "      <td>1</td>\n",
              "      <td>18</td>\n",
              "      <td>4</td>\n",
              "      <td>2</td>\n",
              "      <td>1049</td>\n",
              "      <td>1</td>\n",
              "      <td>2</td>\n",
              "      <td>4</td>\n",
              "      <td>2</td>\n",
              "      <td>1</td>\n",
              "      <td>4</td>\n",
              "      <td>2</td>\n",
              "      <td>21</td>\n",
              "      <td>3</td>\n",
              "      <td>1</td>\n",
              "      <td>1</td>\n",
              "      <td>3</td>\n",
              "      <td>2</td>\n",
              "      <td>1</td>\n",
              "      <td>2</td>\n",
              "      <td>1</td>\n",
              "    </tr>\n",
              "    <tr>\n",
              "      <th>1</th>\n",
              "      <td>1</td>\n",
              "      <td>9</td>\n",
              "      <td>4</td>\n",
              "      <td>0</td>\n",
              "      <td>2799</td>\n",
              "      <td>1</td>\n",
              "      <td>3</td>\n",
              "      <td>2</td>\n",
              "      <td>3</td>\n",
              "      <td>1</td>\n",
              "      <td>2</td>\n",
              "      <td>1</td>\n",
              "      <td>36</td>\n",
              "      <td>3</td>\n",
              "      <td>1</td>\n",
              "      <td>2</td>\n",
              "      <td>3</td>\n",
              "      <td>1</td>\n",
              "      <td>1</td>\n",
              "      <td>2</td>\n",
              "      <td>1</td>\n",
              "    </tr>\n",
              "    <tr>\n",
              "      <th>2</th>\n",
              "      <td>2</td>\n",
              "      <td>12</td>\n",
              "      <td>2</td>\n",
              "      <td>9</td>\n",
              "      <td>841</td>\n",
              "      <td>2</td>\n",
              "      <td>4</td>\n",
              "      <td>2</td>\n",
              "      <td>2</td>\n",
              "      <td>1</td>\n",
              "      <td>4</td>\n",
              "      <td>1</td>\n",
              "      <td>23</td>\n",
              "      <td>3</td>\n",
              "      <td>1</td>\n",
              "      <td>1</td>\n",
              "      <td>2</td>\n",
              "      <td>2</td>\n",
              "      <td>1</td>\n",
              "      <td>2</td>\n",
              "      <td>1</td>\n",
              "    </tr>\n",
              "    <tr>\n",
              "      <th>3</th>\n",
              "      <td>1</td>\n",
              "      <td>12</td>\n",
              "      <td>4</td>\n",
              "      <td>0</td>\n",
              "      <td>2122</td>\n",
              "      <td>1</td>\n",
              "      <td>3</td>\n",
              "      <td>3</td>\n",
              "      <td>3</td>\n",
              "      <td>1</td>\n",
              "      <td>2</td>\n",
              "      <td>1</td>\n",
              "      <td>39</td>\n",
              "      <td>3</td>\n",
              "      <td>1</td>\n",
              "      <td>2</td>\n",
              "      <td>2</td>\n",
              "      <td>1</td>\n",
              "      <td>1</td>\n",
              "      <td>1</td>\n",
              "      <td>1</td>\n",
              "    </tr>\n",
              "    <tr>\n",
              "      <th>4</th>\n",
              "      <td>1</td>\n",
              "      <td>12</td>\n",
              "      <td>4</td>\n",
              "      <td>0</td>\n",
              "      <td>2171</td>\n",
              "      <td>1</td>\n",
              "      <td>3</td>\n",
              "      <td>4</td>\n",
              "      <td>3</td>\n",
              "      <td>1</td>\n",
              "      <td>4</td>\n",
              "      <td>2</td>\n",
              "      <td>38</td>\n",
              "      <td>1</td>\n",
              "      <td>2</td>\n",
              "      <td>2</td>\n",
              "      <td>2</td>\n",
              "      <td>2</td>\n",
              "      <td>1</td>\n",
              "      <td>1</td>\n",
              "      <td>1</td>\n",
              "    </tr>\n",
              "  </tbody>\n",
              "</table>\n",
              "</div>"
            ],
            "text/plain": [
              "   laufkont  laufzeit  moral  verw  hoehe  ...  beruf  pers  telef  gastarb  kredit\n",
              "0         1        18      4     2   1049  ...      3     2      1        2       1\n",
              "1         1         9      4     0   2799  ...      3     1      1        2       1\n",
              "2         2        12      2     9    841  ...      2     2      1        2       1\n",
              "3         1        12      4     0   2122  ...      2     1      1        1       1\n",
              "4         1        12      4     0   2171  ...      2     2      1        1       1\n",
              "\n",
              "[5 rows x 21 columns]"
            ]
          },
          "metadata": {
            "tags": []
          },
          "execution_count": 2
        }
      ]
    },
    {
      "cell_type": "markdown",
      "metadata": {
        "id": "ovbKFePHGGIe"
      },
      "source": [
        "# **Split Data into Train and Test Files**"
      ]
    },
    {
      "cell_type": "code",
      "metadata": {
        "id": "q9Cv1oijEO4x"
      },
      "source": [
        "y = data[['kredit']]\n",
        "x = data.drop('kredit', axis=1)"
      ],
      "execution_count": 3,
      "outputs": []
    },
    {
      "cell_type": "code",
      "metadata": {
        "id": "8rHO4ZmEFL_n"
      },
      "source": [
        " x_train,x_test,y_train,y_test = train_test_split(\n",
        "     x,\n",
        "     y,\n",
        "     test_size=0.2, \n",
        "     random_state=42)"
      ],
      "execution_count": 4,
      "outputs": []
    },
    {
      "cell_type": "code",
      "metadata": {
        "id": "IH7bw7KlFhKb",
        "outputId": "2172924e-863f-4b5d-919f-9232fbb242b9",
        "colab": {
          "base_uri": "https://localhost:8080/",
          "height": 204
        }
      },
      "source": [
        "x_train.head()\n",
        "#x_train.shape"
      ],
      "execution_count": 5,
      "outputs": [
        {
          "output_type": "execute_result",
          "data": {
            "text/html": [
              "<div>\n",
              "<style scoped>\n",
              "    .dataframe tbody tr th:only-of-type {\n",
              "        vertical-align: middle;\n",
              "    }\n",
              "\n",
              "    .dataframe tbody tr th {\n",
              "        vertical-align: top;\n",
              "    }\n",
              "\n",
              "    .dataframe thead th {\n",
              "        text-align: right;\n",
              "    }\n",
              "</style>\n",
              "<table border=\"1\" class=\"dataframe\">\n",
              "  <thead>\n",
              "    <tr style=\"text-align: right;\">\n",
              "      <th></th>\n",
              "      <th>laufkont</th>\n",
              "      <th>laufzeit</th>\n",
              "      <th>moral</th>\n",
              "      <th>verw</th>\n",
              "      <th>hoehe</th>\n",
              "      <th>sparkont</th>\n",
              "      <th>beszeit</th>\n",
              "      <th>rate</th>\n",
              "      <th>famges</th>\n",
              "      <th>buerge</th>\n",
              "      <th>wohnzeit</th>\n",
              "      <th>verm</th>\n",
              "      <th>alter</th>\n",
              "      <th>weitkred</th>\n",
              "      <th>wohn</th>\n",
              "      <th>bishkred</th>\n",
              "      <th>beruf</th>\n",
              "      <th>pers</th>\n",
              "      <th>telef</th>\n",
              "      <th>gastarb</th>\n",
              "    </tr>\n",
              "  </thead>\n",
              "  <tbody>\n",
              "    <tr>\n",
              "      <th>29</th>\n",
              "      <td>3</td>\n",
              "      <td>42</td>\n",
              "      <td>4</td>\n",
              "      <td>1</td>\n",
              "      <td>4796</td>\n",
              "      <td>1</td>\n",
              "      <td>5</td>\n",
              "      <td>4</td>\n",
              "      <td>3</td>\n",
              "      <td>1</td>\n",
              "      <td>4</td>\n",
              "      <td>4</td>\n",
              "      <td>56</td>\n",
              "      <td>3</td>\n",
              "      <td>3</td>\n",
              "      <td>1</td>\n",
              "      <td>3</td>\n",
              "      <td>2</td>\n",
              "      <td>1</td>\n",
              "      <td>2</td>\n",
              "    </tr>\n",
              "    <tr>\n",
              "      <th>535</th>\n",
              "      <td>2</td>\n",
              "      <td>24</td>\n",
              "      <td>2</td>\n",
              "      <td>3</td>\n",
              "      <td>1967</td>\n",
              "      <td>1</td>\n",
              "      <td>5</td>\n",
              "      <td>4</td>\n",
              "      <td>2</td>\n",
              "      <td>1</td>\n",
              "      <td>4</td>\n",
              "      <td>3</td>\n",
              "      <td>20</td>\n",
              "      <td>3</td>\n",
              "      <td>2</td>\n",
              "      <td>1</td>\n",
              "      <td>3</td>\n",
              "      <td>2</td>\n",
              "      <td>2</td>\n",
              "      <td>2</td>\n",
              "    </tr>\n",
              "    <tr>\n",
              "      <th>695</th>\n",
              "      <td>4</td>\n",
              "      <td>60</td>\n",
              "      <td>3</td>\n",
              "      <td>3</td>\n",
              "      <td>15653</td>\n",
              "      <td>1</td>\n",
              "      <td>4</td>\n",
              "      <td>2</td>\n",
              "      <td>3</td>\n",
              "      <td>1</td>\n",
              "      <td>4</td>\n",
              "      <td>3</td>\n",
              "      <td>21</td>\n",
              "      <td>3</td>\n",
              "      <td>2</td>\n",
              "      <td>2</td>\n",
              "      <td>3</td>\n",
              "      <td>2</td>\n",
              "      <td>2</td>\n",
              "      <td>2</td>\n",
              "    </tr>\n",
              "    <tr>\n",
              "      <th>557</th>\n",
              "      <td>3</td>\n",
              "      <td>12</td>\n",
              "      <td>2</td>\n",
              "      <td>2</td>\n",
              "      <td>1474</td>\n",
              "      <td>1</td>\n",
              "      <td>2</td>\n",
              "      <td>4</td>\n",
              "      <td>2</td>\n",
              "      <td>1</td>\n",
              "      <td>1</td>\n",
              "      <td>2</td>\n",
              "      <td>33</td>\n",
              "      <td>1</td>\n",
              "      <td>2</td>\n",
              "      <td>1</td>\n",
              "      <td>4</td>\n",
              "      <td>2</td>\n",
              "      <td>2</td>\n",
              "      <td>2</td>\n",
              "    </tr>\n",
              "    <tr>\n",
              "      <th>836</th>\n",
              "      <td>4</td>\n",
              "      <td>18</td>\n",
              "      <td>0</td>\n",
              "      <td>9</td>\n",
              "      <td>4165</td>\n",
              "      <td>1</td>\n",
              "      <td>3</td>\n",
              "      <td>2</td>\n",
              "      <td>3</td>\n",
              "      <td>1</td>\n",
              "      <td>2</td>\n",
              "      <td>3</td>\n",
              "      <td>36</td>\n",
              "      <td>2</td>\n",
              "      <td>2</td>\n",
              "      <td>2</td>\n",
              "      <td>3</td>\n",
              "      <td>1</td>\n",
              "      <td>1</td>\n",
              "      <td>2</td>\n",
              "    </tr>\n",
              "  </tbody>\n",
              "</table>\n",
              "</div>"
            ],
            "text/plain": [
              "     laufkont  laufzeit  moral  verw  ...  beruf  pers  telef  gastarb\n",
              "29          3        42      4     1  ...      3     2      1        2\n",
              "535         2        24      2     3  ...      3     2      2        2\n",
              "695         4        60      3     3  ...      3     2      2        2\n",
              "557         3        12      2     2  ...      4     2      2        2\n",
              "836         4        18      0     9  ...      3     1      1        2\n",
              "\n",
              "[5 rows x 20 columns]"
            ]
          },
          "metadata": {
            "tags": []
          },
          "execution_count": 5
        }
      ]
    },
    {
      "cell_type": "code",
      "metadata": {
        "id": "8MeweHNDFu2B",
        "outputId": "a1d26186-ab94-494a-e82d-c1f16246d174",
        "colab": {
          "base_uri": "https://localhost:8080/",
          "height": 204
        }
      },
      "source": [
        "x_test.head()\n",
        "#x_test.shape"
      ],
      "execution_count": 6,
      "outputs": [
        {
          "output_type": "execute_result",
          "data": {
            "text/html": [
              "<div>\n",
              "<style scoped>\n",
              "    .dataframe tbody tr th:only-of-type {\n",
              "        vertical-align: middle;\n",
              "    }\n",
              "\n",
              "    .dataframe tbody tr th {\n",
              "        vertical-align: top;\n",
              "    }\n",
              "\n",
              "    .dataframe thead th {\n",
              "        text-align: right;\n",
              "    }\n",
              "</style>\n",
              "<table border=\"1\" class=\"dataframe\">\n",
              "  <thead>\n",
              "    <tr style=\"text-align: right;\">\n",
              "      <th></th>\n",
              "      <th>laufkont</th>\n",
              "      <th>laufzeit</th>\n",
              "      <th>moral</th>\n",
              "      <th>verw</th>\n",
              "      <th>hoehe</th>\n",
              "      <th>sparkont</th>\n",
              "      <th>beszeit</th>\n",
              "      <th>rate</th>\n",
              "      <th>famges</th>\n",
              "      <th>buerge</th>\n",
              "      <th>wohnzeit</th>\n",
              "      <th>verm</th>\n",
              "      <th>alter</th>\n",
              "      <th>weitkred</th>\n",
              "      <th>wohn</th>\n",
              "      <th>bishkred</th>\n",
              "      <th>beruf</th>\n",
              "      <th>pers</th>\n",
              "      <th>telef</th>\n",
              "      <th>gastarb</th>\n",
              "    </tr>\n",
              "  </thead>\n",
              "  <tbody>\n",
              "    <tr>\n",
              "      <th>521</th>\n",
              "      <td>4</td>\n",
              "      <td>36</td>\n",
              "      <td>2</td>\n",
              "      <td>2</td>\n",
              "      <td>10974</td>\n",
              "      <td>1</td>\n",
              "      <td>1</td>\n",
              "      <td>4</td>\n",
              "      <td>2</td>\n",
              "      <td>1</td>\n",
              "      <td>2</td>\n",
              "      <td>3</td>\n",
              "      <td>26</td>\n",
              "      <td>3</td>\n",
              "      <td>2</td>\n",
              "      <td>2</td>\n",
              "      <td>4</td>\n",
              "      <td>2</td>\n",
              "      <td>2</td>\n",
              "      <td>2</td>\n",
              "    </tr>\n",
              "    <tr>\n",
              "      <th>737</th>\n",
              "      <td>4</td>\n",
              "      <td>18</td>\n",
              "      <td>4</td>\n",
              "      <td>3</td>\n",
              "      <td>1149</td>\n",
              "      <td>4</td>\n",
              "      <td>3</td>\n",
              "      <td>4</td>\n",
              "      <td>3</td>\n",
              "      <td>1</td>\n",
              "      <td>3</td>\n",
              "      <td>1</td>\n",
              "      <td>46</td>\n",
              "      <td>3</td>\n",
              "      <td>2</td>\n",
              "      <td>2</td>\n",
              "      <td>3</td>\n",
              "      <td>2</td>\n",
              "      <td>1</td>\n",
              "      <td>2</td>\n",
              "    </tr>\n",
              "    <tr>\n",
              "      <th>740</th>\n",
              "      <td>4</td>\n",
              "      <td>12</td>\n",
              "      <td>2</td>\n",
              "      <td>2</td>\n",
              "      <td>1736</td>\n",
              "      <td>1</td>\n",
              "      <td>4</td>\n",
              "      <td>3</td>\n",
              "      <td>2</td>\n",
              "      <td>1</td>\n",
              "      <td>4</td>\n",
              "      <td>1</td>\n",
              "      <td>31</td>\n",
              "      <td>3</td>\n",
              "      <td>2</td>\n",
              "      <td>1</td>\n",
              "      <td>2</td>\n",
              "      <td>2</td>\n",
              "      <td>1</td>\n",
              "      <td>2</td>\n",
              "    </tr>\n",
              "    <tr>\n",
              "      <th>660</th>\n",
              "      <td>2</td>\n",
              "      <td>8</td>\n",
              "      <td>2</td>\n",
              "      <td>3</td>\n",
              "      <td>1414</td>\n",
              "      <td>1</td>\n",
              "      <td>3</td>\n",
              "      <td>4</td>\n",
              "      <td>3</td>\n",
              "      <td>3</td>\n",
              "      <td>2</td>\n",
              "      <td>1</td>\n",
              "      <td>33</td>\n",
              "      <td>3</td>\n",
              "      <td>2</td>\n",
              "      <td>1</td>\n",
              "      <td>3</td>\n",
              "      <td>2</td>\n",
              "      <td>1</td>\n",
              "      <td>1</td>\n",
              "    </tr>\n",
              "    <tr>\n",
              "      <th>411</th>\n",
              "      <td>4</td>\n",
              "      <td>24</td>\n",
              "      <td>3</td>\n",
              "      <td>9</td>\n",
              "      <td>2978</td>\n",
              "      <td>5</td>\n",
              "      <td>3</td>\n",
              "      <td>4</td>\n",
              "      <td>3</td>\n",
              "      <td>1</td>\n",
              "      <td>4</td>\n",
              "      <td>1</td>\n",
              "      <td>32</td>\n",
              "      <td>3</td>\n",
              "      <td>2</td>\n",
              "      <td>2</td>\n",
              "      <td>3</td>\n",
              "      <td>1</td>\n",
              "      <td>2</td>\n",
              "      <td>2</td>\n",
              "    </tr>\n",
              "  </tbody>\n",
              "</table>\n",
              "</div>"
            ],
            "text/plain": [
              "     laufkont  laufzeit  moral  verw  ...  beruf  pers  telef  gastarb\n",
              "521         4        36      2     2  ...      4     2      2        2\n",
              "737         4        18      4     3  ...      3     2      1        2\n",
              "740         4        12      2     2  ...      2     2      1        2\n",
              "660         2         8      2     3  ...      3     2      1        1\n",
              "411         4        24      3     9  ...      3     1      2        2\n",
              "\n",
              "[5 rows x 20 columns]"
            ]
          },
          "metadata": {
            "tags": []
          },
          "execution_count": 6
        }
      ]
    },
    {
      "cell_type": "markdown",
      "metadata": {
        "id": "w6_tj2A5LNWZ"
      },
      "source": [
        "# **K Means Clustering**"
      ]
    },
    {
      "cell_type": "code",
      "metadata": {
        "id": "dMJyeLsfG--j",
        "outputId": "1323437b-8a0e-4e5d-e2ef-cab493c8a740",
        "colab": {
          "base_uri": "https://localhost:8080/"
        }
      },
      "source": [
        "kmeans = KMeans(n_clusters=8).fit(x_train)\n",
        "kmeans.labels_\n",
        "kmeans.cluster_centers_"
      ],
      "execution_count": 7,
      "outputs": [
        {
          "output_type": "execute_result",
          "data": {
            "text/plain": [
              "array([[2.00000000e+00, 4.47000000e+01, 1.60000000e+00, 5.30000000e+00,\n",
              "        1.52161000e+04, 1.90000000e+00, 3.20000000e+00, 2.60000000e+00,\n",
              "        2.60000000e+00, 1.10000000e+00, 2.90000000e+00, 3.10000000e+00,\n",
              "        3.76000000e+01, 2.50000000e+00, 2.10000000e+00, 1.30000000e+00,\n",
              "        3.40000000e+00, 2.00000000e+00, 1.90000000e+00, 1.90000000e+00],\n",
              "       [2.65573770e+00, 1.93169399e+01, 2.66120219e+00, 2.97267760e+00,\n",
              "        2.19557923e+03, 1.95628415e+00, 3.32240437e+00, 3.12021858e+00,\n",
              "        2.68852459e+00, 1.15300546e+00, 2.75956284e+00, 2.33879781e+00,\n",
              "        3.43879781e+01, 2.71584699e+00, 1.86885246e+00, 1.38797814e+00,\n",
              "        2.96174863e+00, 1.91256831e+00, 1.40437158e+00, 1.94535519e+00],\n",
              "       [2.50000000e+00, 3.11166667e+01, 2.80000000e+00, 2.85000000e+00,\n",
              "        6.46525000e+03, 2.10000000e+00, 3.45000000e+00, 2.65000000e+00,\n",
              "        2.81666667e+00, 1.06666667e+00, 3.01666667e+00, 2.81666667e+00,\n",
              "        3.75166667e+01, 2.65000000e+00, 2.01666667e+00, 1.55000000e+00,\n",
              "        3.16666667e+00, 1.80000000e+00, 1.66666667e+00, 1.98333333e+00],\n",
              "       [2.41984733e+00, 2.35877863e+01, 2.44274809e+00, 2.17557252e+00,\n",
              "        3.39699237e+03, 2.30534351e+00, 3.45801527e+00, 2.67938931e+00,\n",
              "        2.61832061e+00, 1.15267176e+00, 2.89312977e+00, 2.42748092e+00,\n",
              "        3.44274809e+01, 2.69465649e+00, 1.87786260e+00, 1.27480916e+00,\n",
              "        2.94656489e+00, 1.77862595e+00, 1.43511450e+00, 1.96183206e+00],\n",
              "       [2.61904762e+00, 3.80000000e+01, 2.61904762e+00, 3.19047619e+00,\n",
              "        1.13524286e+04, 2.33333333e+00, 3.47619048e+00, 2.42857143e+00,\n",
              "        2.61904762e+00, 1.09523810e+00, 3.00000000e+00, 3.23809524e+00,\n",
              "        3.44285714e+01, 2.47619048e+00, 2.19047619e+00, 1.42857143e+00,\n",
              "        3.38095238e+00, 1.80952381e+00, 1.85714286e+00, 2.00000000e+00],\n",
              "       [2.62633452e+00, 1.32419929e+01, 2.55516014e+00, 2.73665480e+00,\n",
              "        1.13390036e+03, 2.01779359e+00, 3.43060498e+00, 3.32028470e+00,\n",
              "        2.66548043e+00, 1.14946619e+00, 2.83985765e+00, 2.02846975e+00,\n",
              "        3.63807829e+01, 2.71174377e+00, 1.89323843e+00, 1.41281139e+00,\n",
              "        2.68683274e+00, 1.84341637e+00, 1.29181495e+00, 1.95729537e+00],\n",
              "       [2.68656716e+00, 2.79701493e+01, 2.49253731e+00, 3.50746269e+00,\n",
              "        4.75334328e+03, 1.89552239e+00, 3.26865672e+00, 2.68656716e+00,\n",
              "        2.71641791e+00, 1.11940299e+00, 3.04477612e+00, 2.62686567e+00,\n",
              "        3.43731343e+01, 2.65671642e+00, 2.04477612e+00, 1.55223881e+00,\n",
              "        3.05970149e+00, 1.83582090e+00, 1.49253731e+00, 2.00000000e+00],\n",
              "       [2.55319149e+00, 3.52978723e+01, 2.48936170e+00, 2.91489362e+00,\n",
              "        8.22527660e+03, 2.85106383e+00, 3.25531915e+00, 2.25531915e+00,\n",
              "        2.55319149e+00, 1.14893617e+00, 2.70212766e+00, 2.85106383e+00,\n",
              "        3.51489362e+01, 2.57446809e+00, 2.04255319e+00, 1.51063830e+00,\n",
              "        3.19148936e+00, 1.82978723e+00, 1.48936170e+00, 1.97872340e+00]])"
            ]
          },
          "metadata": {
            "tags": []
          },
          "execution_count": 7
        }
      ]
    },
    {
      "cell_type": "code",
      "metadata": {
        "id": "2sd5T0uTRZA2",
        "outputId": "70815b91-cb9f-40eb-d7f2-e7e0d410ddca",
        "colab": {
          "base_uri": "https://localhost:8080/"
        }
      },
      "source": [
        "print(silhouette_score(x_train, kmeans.labels_))"
      ],
      "execution_count": 8,
      "outputs": [
        {
          "output_type": "stream",
          "text": [
            "0.5763718972076219\n"
          ],
          "name": "stdout"
        }
      ]
    },
    {
      "cell_type": "code",
      "metadata": {
        "id": "A7510v73vRl-",
        "outputId": "5c781b7a-51a2-4cdd-d22f-42e750d190f4",
        "colab": {
          "base_uri": "https://localhost:8080/"
        }
      },
      "source": [
        "kmeans = KMeans(n_clusters=3).fit(x_train)\n",
        "kmeans.labels_\n",
        "kmeans.cluster_centers_\n",
        "print(silhouette_score(x_train, kmeans.labels_))"
      ],
      "execution_count": 9,
      "outputs": [
        {
          "output_type": "stream",
          "text": [
            "0.65302602837943\n"
          ],
          "name": "stdout"
        }
      ]
    },
    {
      "cell_type": "code",
      "metadata": {
        "id": "60sfi_A-vedt",
        "outputId": "8f70664e-f42e-48b3-9ba9-1a0495cac28c",
        "colab": {
          "base_uri": "https://localhost:8080/"
        }
      },
      "source": [
        "#init{‘k-means++’, ‘random’, ndarray, callable}, default=’k-means++’\n",
        "#‘random’: choose n_clusters observations (rows) at random from data for the initial centroids.\n",
        "\n",
        "kmeans = KMeans(n_clusters=8, init='random').fit(x_train)\n",
        "kmeans.labels_\n",
        "#kmeans.cluster_centers_\n",
        "print(silhouette_score(x_train, kmeans.labels_))"
      ],
      "execution_count": 10,
      "outputs": [
        {
          "output_type": "stream",
          "text": [
            "0.5754004301563688\n"
          ],
          "name": "stdout"
        }
      ]
    },
    {
      "cell_type": "code",
      "metadata": {
        "id": "cKGndrHAwpCQ",
        "outputId": "499d8462-b56d-451a-9616-5f5cf6df5cf3",
        "colab": {
          "base_uri": "https://localhost:8080/"
        }
      },
      "source": [
        "#init{‘k-means++’, ‘random’, ndarray, callable}, default=’k-means++’\n",
        "#‘k-means++’ : selects initial cluster centers for k-mean clustering in a smart way to speed up convergence.\n",
        "\n",
        "kmeans = KMeans(n_clusters=8, init='k-means++').fit(x_train)\n",
        "kmeans.labels_\n",
        "#kmeans.cluster_centers_\n",
        "print(silhouette_score(x_train, kmeans.labels_))"
      ],
      "execution_count": 11,
      "outputs": [
        {
          "output_type": "stream",
          "text": [
            "0.5754090362597508\n"
          ],
          "name": "stdout"
        }
      ]
    },
    {
      "cell_type": "code",
      "metadata": {
        "id": "KKusmJiQwuPm",
        "outputId": "41a43570-e094-4bea-fed4-7e4abc7eb2bc",
        "colab": {
          "base_uri": "https://localhost:8080/"
        }
      },
      "source": [
        "#n_initint, default=10\n",
        "#Number of time the k-means algorithm will be run with different centroid seeds. The final results will be the best output of n_init consecutive runs in terms of inertia.\n",
        "\n",
        "kmeans = KMeans(n_clusters=8, n_init=25).fit(x_train)\n",
        "kmeans.labels_\n",
        "#kmeans.cluster_centers_\n",
        "print(silhouette_score(x_train, kmeans.labels_))"
      ],
      "execution_count": 12,
      "outputs": [
        {
          "output_type": "stream",
          "text": [
            "0.5763718972076219\n"
          ],
          "name": "stdout"
        }
      ]
    },
    {
      "cell_type": "code",
      "metadata": {
        "id": "dkxN6_8Tw3nM",
        "outputId": "eb7a5d5a-5577-4d08-ec4e-497886f56aab",
        "colab": {
          "base_uri": "https://localhost:8080/"
        }
      },
      "source": [
        "kmeans = KMeans(n_clusters=8, algorithm='elkan').fit(x_train)\n",
        "kmeans.labels_\n",
        "#kmeans.cluster_centers_\n",
        "print(silhouette_score(x_train, kmeans.labels_))"
      ],
      "execution_count": 13,
      "outputs": [
        {
          "output_type": "stream",
          "text": [
            "0.5763718972076219\n"
          ],
          "name": "stdout"
        }
      ]
    },
    {
      "cell_type": "code",
      "metadata": {
        "id": "wKfRDmbEw6CG",
        "outputId": "dc52e049-4897-49be-b938-7bb304974dd4",
        "colab": {
          "base_uri": "https://localhost:8080/"
        }
      },
      "source": [
        "kmeans = KMeans(n_clusters=2, algorithm='elkan').fit(x_train)\n",
        "kmeans.labels_\n",
        "#kmeans.cluster_centers_\n",
        "print(silhouette_score(x_train, kmeans.labels_))"
      ],
      "execution_count": 14,
      "outputs": [
        {
          "output_type": "stream",
          "text": [
            "0.7119009986852598\n"
          ],
          "name": "stdout"
        }
      ]
    },
    {
      "cell_type": "code",
      "metadata": {
        "id": "xPYqmyjGw9Zq",
        "outputId": "4f1c59df-5986-436a-ca85-ec047b0a9394",
        "colab": {
          "base_uri": "https://localhost:8080/"
        }
      },
      "source": [
        "kmeans = KMeans(n_clusters=5, algorithm='elkan', random_state=100, precompute_distances=True, n_init=30).fit(x_train)\n",
        "kmeans.labels_\n",
        "#kmeans.cluster_centers_\n",
        "print(silhouette_score(x_train, kmeans.labels_))"
      ],
      "execution_count": 15,
      "outputs": [
        {
          "output_type": "stream",
          "text": [
            "0.5791279033928023\n"
          ],
          "name": "stdout"
        }
      ]
    },
    {
      "cell_type": "code",
      "metadata": {
        "id": "t86_s3nAUNZB"
      },
      "source": [
        "#Add Cluster Number to each datapoint + save file\n",
        "df_kmeans=x_train\n",
        "kmeans_predict_train=kmeans.predict(x_train)\n",
        "\n",
        "df_kmeans['Cluster Number']=kmeans_predict_train\n",
        "\n",
        "\n",
        "export_csv = df_kmeans.to_csv(r'/gdrive/My Drive/Data Mining/Assignment 5/KmeansClusters_German_Train.csv')"
      ],
      "execution_count": 16,
      "outputs": []
    },
    {
      "cell_type": "code",
      "metadata": {
        "id": "V3GBbXUvVu3u",
        "outputId": "476c3efe-a8c6-430e-d98b-7137769a4040",
        "colab": {
          "base_uri": "https://localhost:8080/"
        }
      },
      "source": [
        "print(df_kmeans.shape)\n"
      ],
      "execution_count": 17,
      "outputs": [
        {
          "output_type": "stream",
          "text": [
            "(800, 21)\n"
          ],
          "name": "stdout"
        }
      ]
    },
    {
      "cell_type": "code",
      "metadata": {
        "id": "Aaof62UiVv6y",
        "outputId": "9292fb7f-3fb1-43b2-b28f-34064c775fe2",
        "colab": {
          "base_uri": "https://localhost:8080/",
          "height": 204
        }
      },
      "source": [
        "df_kmeans.head()\n",
        "#df_kmeans.dtypes"
      ],
      "execution_count": 18,
      "outputs": [
        {
          "output_type": "execute_result",
          "data": {
            "text/html": [
              "<div>\n",
              "<style scoped>\n",
              "    .dataframe tbody tr th:only-of-type {\n",
              "        vertical-align: middle;\n",
              "    }\n",
              "\n",
              "    .dataframe tbody tr th {\n",
              "        vertical-align: top;\n",
              "    }\n",
              "\n",
              "    .dataframe thead th {\n",
              "        text-align: right;\n",
              "    }\n",
              "</style>\n",
              "<table border=\"1\" class=\"dataframe\">\n",
              "  <thead>\n",
              "    <tr style=\"text-align: right;\">\n",
              "      <th></th>\n",
              "      <th>laufkont</th>\n",
              "      <th>laufzeit</th>\n",
              "      <th>moral</th>\n",
              "      <th>verw</th>\n",
              "      <th>hoehe</th>\n",
              "      <th>sparkont</th>\n",
              "      <th>beszeit</th>\n",
              "      <th>rate</th>\n",
              "      <th>famges</th>\n",
              "      <th>buerge</th>\n",
              "      <th>wohnzeit</th>\n",
              "      <th>verm</th>\n",
              "      <th>alter</th>\n",
              "      <th>weitkred</th>\n",
              "      <th>wohn</th>\n",
              "      <th>bishkred</th>\n",
              "      <th>beruf</th>\n",
              "      <th>pers</th>\n",
              "      <th>telef</th>\n",
              "      <th>gastarb</th>\n",
              "      <th>Cluster Number</th>\n",
              "    </tr>\n",
              "  </thead>\n",
              "  <tbody>\n",
              "    <tr>\n",
              "      <th>29</th>\n",
              "      <td>3</td>\n",
              "      <td>42</td>\n",
              "      <td>4</td>\n",
              "      <td>1</td>\n",
              "      <td>4796</td>\n",
              "      <td>1</td>\n",
              "      <td>5</td>\n",
              "      <td>4</td>\n",
              "      <td>3</td>\n",
              "      <td>1</td>\n",
              "      <td>4</td>\n",
              "      <td>4</td>\n",
              "      <td>56</td>\n",
              "      <td>3</td>\n",
              "      <td>3</td>\n",
              "      <td>1</td>\n",
              "      <td>3</td>\n",
              "      <td>2</td>\n",
              "      <td>1</td>\n",
              "      <td>2</td>\n",
              "      <td>4</td>\n",
              "    </tr>\n",
              "    <tr>\n",
              "      <th>535</th>\n",
              "      <td>2</td>\n",
              "      <td>24</td>\n",
              "      <td>2</td>\n",
              "      <td>3</td>\n",
              "      <td>1967</td>\n",
              "      <td>1</td>\n",
              "      <td>5</td>\n",
              "      <td>4</td>\n",
              "      <td>2</td>\n",
              "      <td>1</td>\n",
              "      <td>4</td>\n",
              "      <td>3</td>\n",
              "      <td>20</td>\n",
              "      <td>3</td>\n",
              "      <td>2</td>\n",
              "      <td>1</td>\n",
              "      <td>3</td>\n",
              "      <td>2</td>\n",
              "      <td>2</td>\n",
              "      <td>2</td>\n",
              "      <td>0</td>\n",
              "    </tr>\n",
              "    <tr>\n",
              "      <th>695</th>\n",
              "      <td>4</td>\n",
              "      <td>60</td>\n",
              "      <td>3</td>\n",
              "      <td>3</td>\n",
              "      <td>15653</td>\n",
              "      <td>1</td>\n",
              "      <td>4</td>\n",
              "      <td>2</td>\n",
              "      <td>3</td>\n",
              "      <td>1</td>\n",
              "      <td>4</td>\n",
              "      <td>3</td>\n",
              "      <td>21</td>\n",
              "      <td>3</td>\n",
              "      <td>2</td>\n",
              "      <td>2</td>\n",
              "      <td>3</td>\n",
              "      <td>2</td>\n",
              "      <td>2</td>\n",
              "      <td>2</td>\n",
              "      <td>3</td>\n",
              "    </tr>\n",
              "    <tr>\n",
              "      <th>557</th>\n",
              "      <td>3</td>\n",
              "      <td>12</td>\n",
              "      <td>2</td>\n",
              "      <td>2</td>\n",
              "      <td>1474</td>\n",
              "      <td>1</td>\n",
              "      <td>2</td>\n",
              "      <td>4</td>\n",
              "      <td>2</td>\n",
              "      <td>1</td>\n",
              "      <td>1</td>\n",
              "      <td>2</td>\n",
              "      <td>33</td>\n",
              "      <td>1</td>\n",
              "      <td>2</td>\n",
              "      <td>1</td>\n",
              "      <td>4</td>\n",
              "      <td>2</td>\n",
              "      <td>2</td>\n",
              "      <td>2</td>\n",
              "      <td>0</td>\n",
              "    </tr>\n",
              "    <tr>\n",
              "      <th>836</th>\n",
              "      <td>4</td>\n",
              "      <td>18</td>\n",
              "      <td>0</td>\n",
              "      <td>9</td>\n",
              "      <td>4165</td>\n",
              "      <td>1</td>\n",
              "      <td>3</td>\n",
              "      <td>2</td>\n",
              "      <td>3</td>\n",
              "      <td>1</td>\n",
              "      <td>2</td>\n",
              "      <td>3</td>\n",
              "      <td>36</td>\n",
              "      <td>2</td>\n",
              "      <td>2</td>\n",
              "      <td>2</td>\n",
              "      <td>3</td>\n",
              "      <td>1</td>\n",
              "      <td>1</td>\n",
              "      <td>2</td>\n",
              "      <td>2</td>\n",
              "    </tr>\n",
              "  </tbody>\n",
              "</table>\n",
              "</div>"
            ],
            "text/plain": [
              "     laufkont  laufzeit  moral  verw  ...  pers  telef  gastarb  Cluster Number\n",
              "29          3        42      4     1  ...     2      1        2               4\n",
              "535         2        24      2     3  ...     2      2        2               0\n",
              "695         4        60      3     3  ...     2      2        2               3\n",
              "557         3        12      2     2  ...     2      2        2               0\n",
              "836         4        18      0     9  ...     1      1        2               2\n",
              "\n",
              "[5 rows x 21 columns]"
            ]
          },
          "metadata": {
            "tags": []
          },
          "execution_count": 18
        }
      ]
    },
    {
      "cell_type": "code",
      "metadata": {
        "id": "MGq_iHl9TkSw",
        "outputId": "31871d87-7331-4066-aef4-35edfdfbc467",
        "colab": {
          "base_uri": "https://localhost:8080/"
        }
      },
      "source": [
        "centroid = kmeans.cluster_centers_\n",
        "centroid"
      ],
      "execution_count": 19,
      "outputs": [
        {
          "output_type": "execute_result",
          "data": {
            "text/plain": [
              "array([[2.63684211e+00, 1.43736842e+01, 2.61052632e+00, 2.81578947e+00,\n",
              "        1.34872895e+03, 1.98684211e+00, 3.39210526e+00, 3.29210526e+00,\n",
              "        2.68421053e+00, 1.14473684e+00, 2.81052632e+00, 2.10789474e+00,\n",
              "        3.56526316e+01, 2.72368421e+00, 1.89210526e+00, 1.41578947e+00,\n",
              "        2.76315789e+00, 1.86842105e+00, 1.33421053e+00, 1.95263158e+00],\n",
              "       [2.56578947e+00, 3.54736842e+01, 2.53947368e+00, 2.73684211e+00,\n",
              "        8.09311842e+03, 2.64473684e+00, 3.32894737e+00, 2.30263158e+00,\n",
              "        2.65789474e+00, 1.11842105e+00, 2.86842105e+00, 2.80263158e+00,\n",
              "        3.66973684e+01, 2.55263158e+00, 2.01315789e+00, 1.53947368e+00,\n",
              "        3.23684211e+00, 1.77631579e+00, 1.60526316e+00, 1.98684211e+00],\n",
              "       [2.50684932e+00, 2.26849315e+01, 2.47031963e+00, 2.51141553e+00,\n",
              "        3.05722374e+03, 2.17808219e+00, 3.41552511e+00, 2.80821918e+00,\n",
              "        2.63013699e+00, 1.16438356e+00, 2.85844749e+00, 2.39726027e+00,\n",
              "        3.47534247e+01, 2.68493151e+00, 1.86757991e+00, 1.30593607e+00,\n",
              "        2.94063927e+00, 1.81735160e+00, 1.39726027e+00, 1.95890411e+00],\n",
              "       [2.30434783e+00, 3.76956522e+01, 2.17391304e+00, 4.39130435e+00,\n",
              "        1.34333043e+04, 2.26086957e+00, 3.21739130e+00, 2.52173913e+00,\n",
              "        2.56521739e+00, 1.13043478e+00, 2.86956522e+00, 3.30434783e+00,\n",
              "        3.56956522e+01, 2.43478261e+00, 2.08695652e+00, 1.30434783e+00,\n",
              "        3.47826087e+00, 1.95652174e+00, 1.86956522e+00, 1.95652174e+00],\n",
              "       [2.61764706e+00, 2.93921569e+01, 2.66666667e+00, 3.25490196e+00,\n",
              "        5.32225490e+03, 1.93137255e+00, 3.38235294e+00, 2.72549020e+00,\n",
              "        2.73529412e+00, 1.08823529e+00, 3.01960784e+00, 2.73529412e+00,\n",
              "        3.49215686e+01, 2.68627451e+00, 2.07843137e+00, 1.54901961e+00,\n",
              "        3.06862745e+00, 1.84313725e+00, 1.54901961e+00, 1.99019608e+00]])"
            ]
          },
          "metadata": {
            "tags": []
          },
          "execution_count": 19
        }
      ]
    }
  ]
}